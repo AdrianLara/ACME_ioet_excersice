{
 "cells": [
  {
   "cell_type": "code",
   "execution_count": 1,
   "id": "7041dd37",
   "metadata": {},
   "outputs": [],
   "source": [
    "from datetime import datetime, time\n",
    "from collections import namedtuple\n",
    "from itertools import combinations"
   ]
  },
  {
   "cell_type": "code",
   "execution_count": 35,
   "id": "41a53b02",
   "metadata": {},
   "outputs": [],
   "source": [
    "def set_range_schedules(data_dic):\n",
    "    '''\n",
    "    Function to set strings like \"MO10:00-12:00\" into datetime \n",
    "    '''\n",
    "    for key in data_dic.keys():\n",
    "        aux_dict = {}\n",
    "        for i in data_dic[key]:\n",
    "            start = datetime.strptime(i[2:].split(sep=\"-\")[0], \"%H:%M\").time()\n",
    "            end = datetime.strptime(i[2:].split(sep=\"-\")[1], \"%H:%M\").time()\n",
    "            aux_dict[i[:2]] = start, end\n",
    "            data_dic[key] = aux_dict\n",
    "    return data_dic"
   ]
  },
  {
   "cell_type": "code",
   "execution_count": 36,
   "id": "f6d1f226",
   "metadata": {},
   "outputs": [],
   "source": [
    "def open_txt_file(file_name):\n",
    "    '''\n",
    "    Function to open files.txt and convert into dictionary structure \n",
    "    '''\n",
    "    try:\n",
    "        file = open(file_name,\"r\").read().splitlines()\n",
    "    except FileNotFoundError:\n",
    "        print(\"Wrong file or file path\")        \n",
    "    data_dic = {line.split(sep=\"=\")[0] : line.split(sep=\"=\")[1].split(sep=\",\") for line in file}\n",
    "    return set_range_schedules(data_dic)"
   ]
  },
  {
   "cell_type": "code",
   "execution_count": 129,
   "id": "45908717",
   "metadata": {},
   "outputs": [],
   "source": [
    "def is_overleap(data_dic):\n",
    "    '''\n",
    "    Function to compare if two schedules from same day are overleaped it returns the result required\n",
    "    '''\n",
    "    output = \"\"\n",
    "    for (name_0, days_work_0), (name_1, days_work_1) in combinations(data_dic.items(),r=2):\n",
    "        common = days_work_0.keys() & days_work_1.keys()        \n",
    "        cont=0\n",
    "        for key in common:\n",
    "            Range = namedtuple('Range',['start', 'end'])\n",
    "            r1 = Range(start = data_dic[name_0][key][0], end = data_dic[name_0][key][1])\n",
    "            r2 = Range(start = data_dic[name_1][key][0], end = data_dic[name_1][key][1])\n",
    "            if (r1.start < r2.end ) and (r1.end > r2.start):\n",
    "                cont += 1\n",
    "        output += f'{name_0}-{name_1}: {cont}\\n'\n",
    "    return output\n",
    "        #print(\"{}-{}:\".format(name_0, name_1), cont)\n",
    "    "
   ]
  },
  {
   "cell_type": "code",
   "execution_count": 136,
   "id": "2fe98073",
   "metadata": {},
   "outputs": [
    {
     "name": "stdout",
     "output_type": "stream",
     "text": [
      "RENE-ASTRID: 3\n",
      "RENE-ADRIAN: 2\n",
      "RENE-WENDY: 1\n",
      "RENE-JOSE: 3\n",
      "ASTRID-ADRIAN: 2\n",
      "ASTRID-WENDY: 1\n",
      "ASTRID-JOSE: 2\n",
      "ADRIAN-WENDY: 1\n",
      "ADRIAN-JOSE: 1\n",
      "WENDY-JOSE: 1\n",
      "\n"
     ]
    }
   ],
   "source": [
    "'''Test with txt file\n",
    "If you need with another file, change path or name in file\n",
    "The structure for an element is:\n",
    "ASTRID=MO10:00-12:00,TH12:00-14:00,SU20:00-21:00\n",
    "ANDRES=MO10:00-12:00,TH12:00-14:00,SU20:00-21:00\n",
    "'''\n",
    "\n",
    "file = \"input_data_ACME_3.txt\"\n",
    "data = open_txt_file(file)\n",
    "result =is_overleap(data)\n",
    "print(result)"
   ]
  },
  {
   "cell_type": "code",
   "execution_count": null,
   "id": "efb08295",
   "metadata": {},
   "outputs": [],
   "source": []
  }
 ],
 "metadata": {
  "kernelspec": {
   "display_name": "Python 3 (ipykernel)",
   "language": "python",
   "name": "python3"
  },
  "language_info": {
   "codemirror_mode": {
    "name": "ipython",
    "version": 3
   },
   "file_extension": ".py",
   "mimetype": "text/x-python",
   "name": "python",
   "nbconvert_exporter": "python",
   "pygments_lexer": "ipython3",
   "version": "3.10.0"
  }
 },
 "nbformat": 4,
 "nbformat_minor": 5
}
